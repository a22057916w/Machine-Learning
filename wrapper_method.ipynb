{
 "cells": [
  {
   "cell_type": "markdown",
   "id": "01e7f196-6bf5-4dd6-81e0-c5838e7fa8a3",
   "metadata": {
    "scrolled": true
   },
   "source": [
    "## Fetch Data\n"
   ]
  },
  {
   "cell_type": "code",
   "execution_count": 51,
   "id": "ac5ef26e-7adb-43f2-b61a-f98edf9754cc",
   "metadata": {},
   "outputs": [],
   "source": [
    "from ucimlrepo import fetch_ucirepo\n",
    "import numpy as np\n",
    "import pandas as pd\n",
    "from sklearn.naive_bayes import GaussianNB\n",
    "from sklearn.model_selection import train_test_split\n",
    "from sklearn.metrics import accuracy_score\n",
    "\n",
    "# fetch dataset \n",
    "breast_cancer_wisconsin_original = fetch_ucirepo(id=15) \n",
    "  \n",
    "# data (as pandas dataframes) \n",
    "X = breast_cancer_wisconsin_original.data.features \n",
    "y = breast_cancer_wisconsin_original.data.targets "
   ]
  },
  {
   "cell_type": "markdown",
   "id": "fbc5d1c7-ef1e-4411-90ba-1391c9461303",
   "metadata": {},
   "source": [
    "## Drop Missing Value"
   ]
  },
  {
   "cell_type": "code",
   "execution_count": 52,
   "id": "1a1a2a88-a455-4f35-826e-c1509a89c044",
   "metadata": {},
   "outputs": [],
   "source": [
    "# drop missing values\n",
    "X = X.replace(\"?\", pd.NA).dropna()\n",
    "\n",
    "# Now, drop corresponding rows in y\n",
    "y = y.loc[X.index]\n",
    "\n",
    "# Reorder the index ( this might affect the data accuracy if the original index order is meant to be fixed)\n",
    "X = X.reset_index(drop=True)\n",
    "y = y.reset_index(drop=True)"
   ]
  },
  {
   "cell_type": "raw",
   "id": "bb3c624a-b30c-46e3-a894-dd150d49c476",
   "metadata": {},
   "source": [
    "## Wrapper Method (feature selection)\n",
    "Find the three best features by **greedy hill-climbing**. "
   ]
  },
  {
   "cell_type": "code",
   "execution_count": 56,
   "id": "22eaf4a2-d300-47c6-afd5-cc3c8119a864",
   "metadata": {},
   "outputs": [],
   "source": [
    "# Recursive function to find the best three features combination\n",
    "def find_best_feature_combination(X, y, X_val, y_val, best_accuracy=0, best_feature_combination=None, final_model=None):\n",
    "    # Initialize variables if not provided\n",
    "    if best_feature_combination is None:\n",
    "        best_feature_combination = []\n",
    "    \n",
    "    # Base case: If we have selected three features, return the best combination and accuracy\n",
    "    if len(best_feature_combination) >= 3:\n",
    "        return best_feature_combination, best_accuracy, final_model\n",
    "    best_accuracy = 0\n",
    "    \n",
    "    # Try adding one random feature at each recursion\n",
    "    remaining_features = list(set(X.columns) - set(best_feature_combination))  \n",
    "  \n",
    "    best_feature = [];\n",
    "    # Iteratively find the best feature and add it to the best_feature_combination\n",
    "    for next_feature in remaining_features:\n",
    "        \n",
    "        # Select the current feature along with previously selected features\n",
    "        current_features = best_feature_combination + [next_feature]\n",
    "        \n",
    "        # Select features from the dataset\n",
    "        X_selected = X[current_features]\n",
    "        X_selected_val = X_val[current_features]\n",
    "      \n",
    "        # Train the Naïve Bayes classifier\n",
    "        nb_classifier = GaussianNB()\n",
    "        nb_classifier.fit(X_selected, y)\n",
    "        \n",
    "        # Predict the labels for the testing set\n",
    "        y_pred = nb_classifier.predict(X_selected_val)\n",
    "        \n",
    "        # Calculate accuracy for the current feature combination\n",
    "        accuracy = accuracy_score(y_val, y_pred)\n",
    "        \n",
    "        # Update the best accuracy and feature combination if the current accuracy is higher\n",
    "        if accuracy > best_accuracy:\n",
    "            best_accuracy = accuracy\n",
    "            best_feature = next_feature\n",
    "            final_model = nb_classifier\n",
    "\n",
    "    best_feature_combination += [best_feature]\n",
    "    \n",
    "    # print(\"best feature collection:\", best_feature_combination)\n",
    "        \n",
    "    # Recur with the next feature added\n",
    "    best_feature_combination, best_accuracy, final_model = find_best_feature_combination(X, y, X_val, y_val, best_accuracy, best_feature_combination, final_model)\n",
    "    \n",
    "    return best_feature_combination, best_accuracy, final_model"
   ]
  },
  {
   "cell_type": "markdown",
   "id": "2f50938c-5b95-47d3-8b47-ac9c866e821e",
   "metadata": {},
   "source": [
    "## Split the dataset to train, validation, and test"
   ]
  },
  {
   "cell_type": "code",
   "execution_count": 57,
   "id": "5e575a91-9dfb-41ea-a9fe-94cd38a0487a",
   "metadata": {
    "scrolled": true
   },
   "outputs": [],
   "source": [
    "X_train, X_, y_train, y_ = train_test_split(X, np.ravel(y), test_size=0.4, stratify=y)\n",
    "X_val, X_test, y_val, y_test = train_test_split(X_, y_, test_size=0.5, stratify=y_)\n",
    "del X_, y_"
   ]
  },
  {
   "cell_type": "markdown",
   "id": "a6884edd-5bc5-4c87-b8d2-ee1ae91bce33",
   "metadata": {},
   "source": [
    "## Perform the Wrapper Method\n",
    "Run the `find_best_feature_combination` ten times, and find the average validation accuracy"
   ]
  },
  {
   "cell_type": "code",
   "execution_count": 60,
   "id": "f6b4f855-36ff-4f1f-aa4c-3dd5bf2301fc",
   "metadata": {
    "scrolled": true
   },
   "outputs": [
    {
     "name": "stdout",
     "output_type": "stream",
     "text": [
      "Best feature combination: ['Uniformity_of_cell_size', 'Bland_chromatin', 'Clump_thickness']\n",
      "Val accuracy: 0.9781021897810219\n",
      "Test accuracy: 0.9416058394160584\n",
      "---------------------------\n",
      "Best feature combination: ['Uniformity_of_cell_size', 'Bland_chromatin', 'Clump_thickness']\n",
      "Val accuracy: 0.9781021897810219\n",
      "Test accuracy: 0.9416058394160584\n",
      "---------------------------\n",
      "Best feature combination: ['Uniformity_of_cell_size', 'Bland_chromatin', 'Clump_thickness']\n",
      "Val accuracy: 0.9781021897810219\n",
      "Test accuracy: 0.9416058394160584\n",
      "---------------------------\n",
      "Best feature combination: ['Uniformity_of_cell_size', 'Bland_chromatin', 'Clump_thickness']\n",
      "Val accuracy: 0.9781021897810219\n",
      "Test accuracy: 0.9416058394160584\n",
      "---------------------------\n",
      "Best feature combination: ['Uniformity_of_cell_size', 'Bland_chromatin', 'Clump_thickness']\n",
      "Val accuracy: 0.9781021897810219\n",
      "Test accuracy: 0.9416058394160584\n",
      "---------------------------\n",
      "Best feature combination: ['Uniformity_of_cell_size', 'Bland_chromatin', 'Clump_thickness']\n",
      "Val accuracy: 0.9781021897810219\n",
      "Test accuracy: 0.9416058394160584\n",
      "---------------------------\n",
      "Best feature combination: ['Uniformity_of_cell_size', 'Bland_chromatin', 'Clump_thickness']\n",
      "Val accuracy: 0.9781021897810219\n",
      "Test accuracy: 0.9416058394160584\n",
      "---------------------------\n",
      "Best feature combination: ['Uniformity_of_cell_size', 'Bland_chromatin', 'Clump_thickness']\n",
      "Val accuracy: 0.9781021897810219\n",
      "Test accuracy: 0.9416058394160584\n",
      "---------------------------\n",
      "Best feature combination: ['Uniformity_of_cell_size', 'Bland_chromatin', 'Clump_thickness']\n",
      "Val accuracy: 0.9781021897810219\n",
      "Test accuracy: 0.9416058394160584\n",
      "---------------------------\n",
      "Best feature combination: ['Uniformity_of_cell_size', 'Bland_chromatin', 'Clump_thickness']\n",
      "Val accuracy: 0.9781021897810219\n",
      "Test accuracy: 0.9416058394160584\n",
      "---------------------------\n",
      "Average accuracy: 0.9416058394160582\n"
     ]
    }
   ],
   "source": [
    "accuracies = []\n",
    "\n",
    "for _ in range(10):\n",
    "    # Call the recursive function to find the best feature combination\n",
    "    best_feature_combination, best_accuracy, final_model = find_best_feature_combination(X_train, y_train, X_val, y_val)\n",
    "    \n",
    "    y_pred = final_model.predict(X_test[best_feature_combination])\n",
    "    test_accuracy = accuracy_score(y_test, y_pred)\n",
    "    accuracies.append(test_accuracy)\n",
    "    \n",
    "    print(\"Best feature combination:\", best_feature_combination)\n",
    "    print(\"Val accuracy:\", best_accuracy)\n",
    "    print(\"Test accuracy:\", test_accuracy)\n",
    "    print(\"---------------------------\")\n",
    "\n",
    "average_accuracy = np.mean(accuracies)\n",
    "print(\"Average accuracy:\", average_accuracy)"
   ]
  },
  {
   "cell_type": "markdown",
   "id": "1be7c3e7-5490-455a-9bdc-96bc68a069af",
   "metadata": {},
   "source": [
    "### Compare the model of Wrapper Method to the model of Full-Features"
   ]
  },
  {
   "cell_type": "code",
   "execution_count": 59,
   "id": "6ed72afd-2fc8-4a59-8b5f-5d7a8e99ff17",
   "metadata": {},
   "outputs": [
    {
     "name": "stdout",
     "output_type": "stream",
     "text": [
      "Accuracy with three features: 0.9416058394160582\n",
      "Accuracy with full set of features: 0.9708029197080292\n"
     ]
    }
   ],
   "source": [
    "# Train Naïve Bayes classifier with full set of features\n",
    "\n",
    "nb_classifier_full = GaussianNB()\n",
    "nb_classifier_full.fit(X_train, y_train)\n",
    "\n",
    "y_pred = nb_classifier_full.predict(X_test)\n",
    "full_feature_accuracy = accuracy_score(y_test, y_pred)\n",
    "\n",
    "print(\"Accuracy with three features:\", average_accuracy)\n",
    "print(\"Accuracy with full set of features:\", full_feature_accuracy)"
   ]
  },
  {
   "cell_type": "code",
   "execution_count": null,
   "id": "2a4aff03-a1cf-4c4d-9ee2-43700267c1ac",
   "metadata": {},
   "outputs": [],
   "source": []
  }
 ],
 "metadata": {
  "kernelspec": {
   "display_name": "Python 3 (ipykernel)",
   "language": "python",
   "name": "python3"
  },
  "language_info": {
   "codemirror_mode": {
    "name": "ipython",
    "version": 3
   },
   "file_extension": ".py",
   "mimetype": "text/x-python",
   "name": "python",
   "nbconvert_exporter": "python",
   "pygments_lexer": "ipython3",
   "version": "3.12.2"
  }
 },
 "nbformat": 4,
 "nbformat_minor": 5
}
